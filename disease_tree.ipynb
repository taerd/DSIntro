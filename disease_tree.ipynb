{
 "cells": [
  {
   "cell_type": "code",
   "execution_count": 20,
   "id": "afef678e",
   "metadata": {},
   "outputs": [],
   "source": [
    "import pandas as pd\n",
    "from sklearn import tree\n",
    "from sklearn.model_selection import GridSearchCV"
   ]
  },
  {
   "cell_type": "code",
   "execution_count": 2,
   "id": "a2062a76",
   "metadata": {},
   "outputs": [],
   "source": [
    "df = pd.read_csv('https://stepik.org/media/attachments/course/4852/train_data_tree.csv')"
   ]
  },
  {
   "cell_type": "code",
   "execution_count": 3,
   "id": "d3dc2fec",
   "metadata": {},
   "outputs": [
    {
     "data": {
      "text/html": [
       "<div>\n",
       "<style scoped>\n",
       "    .dataframe tbody tr th:only-of-type {\n",
       "        vertical-align: middle;\n",
       "    }\n",
       "\n",
       "    .dataframe tbody tr th {\n",
       "        vertical-align: top;\n",
       "    }\n",
       "\n",
       "    .dataframe thead th {\n",
       "        text-align: right;\n",
       "    }\n",
       "</style>\n",
       "<table border=\"1\" class=\"dataframe\">\n",
       "  <thead>\n",
       "    <tr style=\"text-align: right;\">\n",
       "      <th></th>\n",
       "      <th>sex</th>\n",
       "      <th>exang</th>\n",
       "      <th>num</th>\n",
       "    </tr>\n",
       "  </thead>\n",
       "  <tbody>\n",
       "    <tr>\n",
       "      <th>0</th>\n",
       "      <td>1</td>\n",
       "      <td>1</td>\n",
       "      <td>1</td>\n",
       "    </tr>\n",
       "    <tr>\n",
       "      <th>1</th>\n",
       "      <td>1</td>\n",
       "      <td>1</td>\n",
       "      <td>1</td>\n",
       "    </tr>\n",
       "    <tr>\n",
       "      <th>2</th>\n",
       "      <td>1</td>\n",
       "      <td>0</td>\n",
       "      <td>1</td>\n",
       "    </tr>\n",
       "    <tr>\n",
       "      <th>3</th>\n",
       "      <td>1</td>\n",
       "      <td>0</td>\n",
       "      <td>0</td>\n",
       "    </tr>\n",
       "    <tr>\n",
       "      <th>4</th>\n",
       "      <td>1</td>\n",
       "      <td>0</td>\n",
       "      <td>1</td>\n",
       "    </tr>\n",
       "  </tbody>\n",
       "</table>\n",
       "</div>"
      ],
      "text/plain": [
       "   sex  exang  num\n",
       "0    1      1    1\n",
       "1    1      1    1\n",
       "2    1      0    1\n",
       "3    1      0    0\n",
       "4    1      0    1"
      ]
     },
     "execution_count": 3,
     "metadata": {},
     "output_type": "execute_result"
    }
   ],
   "source": [
    "df.head()"
   ]
  },
  {
   "cell_type": "code",
   "execution_count": 5,
   "id": "7cefc363",
   "metadata": {},
   "outputs": [
    {
     "data": {
      "text/plain": [
       "sex      0\n",
       "exang    0\n",
       "num      0\n",
       "dtype: int64"
      ]
     },
     "execution_count": 5,
     "metadata": {},
     "output_type": "execute_result"
    }
   ],
   "source": [
    "df.isna().sum()"
   ]
  },
  {
   "cell_type": "code",
   "execution_count": 6,
   "id": "8b15b72c",
   "metadata": {},
   "outputs": [
    {
     "data": {
      "text/plain": [
       "(238, 3)"
      ]
     },
     "execution_count": 6,
     "metadata": {},
     "output_type": "execute_result"
    }
   ],
   "source": [
    "df.shape"
   ]
  },
  {
   "cell_type": "code",
   "execution_count": 10,
   "id": "6bc57bbd",
   "metadata": {},
   "outputs": [],
   "source": [
    "X = df.drop(['num'],axis=1)"
   ]
  },
  {
   "cell_type": "code",
   "execution_count": 35,
   "id": "f7170df4",
   "metadata": {},
   "outputs": [
    {
     "data": {
      "text/html": [
       "<div>\n",
       "<style scoped>\n",
       "    .dataframe tbody tr th:only-of-type {\n",
       "        vertical-align: middle;\n",
       "    }\n",
       "\n",
       "    .dataframe tbody tr th {\n",
       "        vertical-align: top;\n",
       "    }\n",
       "\n",
       "    .dataframe thead th {\n",
       "        text-align: right;\n",
       "    }\n",
       "</style>\n",
       "<table border=\"1\" class=\"dataframe\">\n",
       "  <thead>\n",
       "    <tr style=\"text-align: right;\">\n",
       "      <th></th>\n",
       "      <th>sex</th>\n",
       "      <th>exang</th>\n",
       "    </tr>\n",
       "  </thead>\n",
       "  <tbody>\n",
       "    <tr>\n",
       "      <th>0</th>\n",
       "      <td>1</td>\n",
       "      <td>1</td>\n",
       "    </tr>\n",
       "    <tr>\n",
       "      <th>1</th>\n",
       "      <td>1</td>\n",
       "      <td>1</td>\n",
       "    </tr>\n",
       "    <tr>\n",
       "      <th>2</th>\n",
       "      <td>1</td>\n",
       "      <td>0</td>\n",
       "    </tr>\n",
       "    <tr>\n",
       "      <th>3</th>\n",
       "      <td>1</td>\n",
       "      <td>0</td>\n",
       "    </tr>\n",
       "    <tr>\n",
       "      <th>4</th>\n",
       "      <td>1</td>\n",
       "      <td>0</td>\n",
       "    </tr>\n",
       "  </tbody>\n",
       "</table>\n",
       "</div>"
      ],
      "text/plain": [
       "   sex  exang\n",
       "0    1      1\n",
       "1    1      1\n",
       "2    1      0\n",
       "3    1      0\n",
       "4    1      0"
      ]
     },
     "execution_count": 35,
     "metadata": {},
     "output_type": "execute_result"
    }
   ],
   "source": [
    "X.head()"
   ]
  },
  {
   "cell_type": "code",
   "execution_count": 11,
   "id": "7b3dd625",
   "metadata": {},
   "outputs": [],
   "source": [
    "y = df.num"
   ]
  },
  {
   "cell_type": "code",
   "execution_count": 54,
   "id": "110c2703",
   "metadata": {},
   "outputs": [
    {
     "data": {
      "text/plain": [
       "0    1\n",
       "1    1\n",
       "2    1\n",
       "3    0\n",
       "4    1\n",
       "Name: num, dtype: int64"
      ]
     },
     "execution_count": 54,
     "metadata": {},
     "output_type": "execute_result"
    }
   ],
   "source": [
    "y.head()"
   ]
  },
  {
   "cell_type": "code",
   "execution_count": 12,
   "id": "511b1b86",
   "metadata": {},
   "outputs": [],
   "source": [
    "X_train,X_test,y_train,y_test = train_test_split(X,y,test_size=0.15,random_state=10)"
   ]
  },
  {
   "cell_type": "code",
   "execution_count": 71,
   "id": "2c2aabb6",
   "metadata": {},
   "outputs": [],
   "source": [
    "clf= tree.DecisionTreeClassifier(criterion = 'entropy')"
   ]
  },
  {
   "cell_type": "code",
   "execution_count": 72,
   "id": "d75a14e4",
   "metadata": {},
   "outputs": [],
   "source": [
    "parametr = { 'max_depth' : range(1,10)}"
   ]
  },
  {
   "cell_type": "code",
   "execution_count": 73,
   "id": "14da3dbb",
   "metadata": {},
   "outputs": [],
   "source": [
    "grid_search_cv_clf = GridSearchCV(clf,parametr,cv=5)"
   ]
  },
  {
   "cell_type": "code",
   "execution_count": 74,
   "id": "4319f3de",
   "metadata": {},
   "outputs": [
    {
     "data": {
      "text/plain": [
       "GridSearchCV(cv=5, estimator=DecisionTreeClassifier(criterion='entropy'),\n",
       "             param_grid={'max_depth': range(1, 10)})"
      ]
     },
     "execution_count": 74,
     "metadata": {},
     "output_type": "execute_result"
    }
   ],
   "source": [
    "grid_search_cv_clf.fit(X,y)"
   ]
  },
  {
   "cell_type": "code",
   "execution_count": 75,
   "id": "82312118",
   "metadata": {},
   "outputs": [],
   "source": [
    "best_clf = grid_search_cv_clf.best_estimator_"
   ]
  },
  {
   "cell_type": "code",
   "execution_count": 76,
   "id": "36028a8d",
   "metadata": {},
   "outputs": [
    {
     "data": {
      "text/plain": [
       "DecisionTreeClassifier(criterion='entropy', max_depth=1)"
      ]
     },
     "execution_count": 76,
     "metadata": {},
     "output_type": "execute_result"
    }
   ],
   "source": [
    "best_clf"
   ]
  },
  {
   "cell_type": "code",
   "execution_count": 77,
   "id": "a1f58fe0",
   "metadata": {},
   "outputs": [
    {
     "data": {
      "image/png": "[encoded data removed]",
      "text/plain": [
       "<Figure size 432x288 with 1 Axes>"
      ]
     },
     "metadata": {
      "needs_background": "light"
     },
     "output_type": "display_data"
    }
   ],
   "source": [
    "tree.plot_tree(best_clf,\n",
    "               feature_names=list(X_train),\n",
    "               class_names=['have_disease','doesnt_have_disease'],\n",
    "               filled=True,\n",
    "               fontsize = 10);"
   ]
  },
  {
   "cell_type": "code",
   "execution_count": 78,
   "id": "965bd86b",
   "metadata": {},
   "outputs": [],
   "source": [
    "Entropy_root = best_clf.tree_.impurity[0] "
   ]
  },
  {
   "cell_type": "code",
   "execution_count": 80,
   "id": "6038b71e",
   "metadata": {},
   "outputs": [],
   "source": [
    "Samples_root  = best_clf.tree_.n_node_samples[0]"
   ]
  },
  {
   "cell_type": "code",
   "execution_count": 81,
   "id": "d554eca2",
   "metadata": {},
   "outputs": [],
   "source": [
    "Samples_left = best_clf.tree_.n_node_samples[1]"
   ]
  },
  {
   "cell_type": "code",
   "execution_count": 82,
   "id": "8f8743dd",
   "metadata": {},
   "outputs": [],
   "source": [
    "Entropy_left = best_clf.tree_.impurity[1]"
   ]
  },
  {
   "cell_type": "code",
   "execution_count": 84,
   "id": "3567e031",
   "metadata": {},
   "outputs": [],
   "source": [
    "Samples_right = best_clf.tree_.n_node_samples[2]"
   ]
  },
  {
   "cell_type": "code",
   "execution_count": 85,
   "id": "12b50758",
   "metadata": {},
   "outputs": [],
   "source": [
    "Entropy_right = best_clf.tree_.impurity[2]"
   ]
  },
  {
   "cell_type": "code",
   "execution_count": 86,
   "id": "dcca38ba",
   "metadata": {},
   "outputs": [],
   "source": [
    "IG_root = Entropy_root - (Samples_left/Samples_root*Entropy_left + Samples_right/Samples_root*Entropy_right)"
   ]
  },
  {
   "cell_type": "code",
   "execution_count": 87,
   "id": "39c3234e",
   "metadata": {},
   "outputs": [
    {
     "data": {
      "text/plain": [
       "0.11939340343891591"
      ]
     },
     "execution_count": 87,
     "metadata": {},
     "output_type": "execute_result"
    }
   ],
   "source": [
    "IG_root"
   ]
  },
  {
   "cell_type": "code",
   "execution_count": 51,
   "id": "a3e0949a",
   "metadata": {},
   "outputs": [],
   "source": [
    "another_clf = tree.DecisionTreeClassifier(criterion = 'entropy')"
   ]
  },
  {
   "cell_type": "code",
   "execution_count": 52,
   "id": "b3224d0f",
   "metadata": {},
   "outputs": [
    {
     "data": {
      "text/plain": [
       "DecisionTreeClassifier(criterion='entropy')"
      ]
     },
     "execution_count": 52,
     "metadata": {},
     "output_type": "execute_result"
    }
   ],
   "source": [
    "another_clf.fit(X,y)"
   ]
  },
  {
   "cell_type": "code",
   "execution_count": 53,
   "id": "95e70f9b",
   "metadata": {},
   "outputs": [
    {
     "data": {
      "image/png": "[encoded data removed]",
      "text/plain": [
       "<Figure size 432x288 with 1 Axes>"
      ]
     },
     "metadata": {
      "needs_background": "light"
     },
     "output_type": "display_data"
    }
   ],
   "source": [
    "tree.plot_tree(another_clf,\n",
    "               feature_names=list(X_train),\n",
    "               class_names=['have_disease','doesnt_have_disease'],\n",
    "               filled=True,\n",
    "               fontsize = 7);"
   ]
  },
  {
   "cell_type": "code",
   "execution_count": 56,
   "id": "98a3717a",
   "metadata": {},
   "outputs": [
    {
     "data": {
      "text/plain": [
       "array([238, 157,  53, 104,  81,  16,  65], dtype=int64)"
      ]
     },
     "execution_count": 56,
     "metadata": {},
     "output_type": "execute_result"
    }
   ],
   "source": [
    "# количество рассматриваемых вариантов в каждом листе\n",
    "another_clf.tree_.n_node_samples"
   ]
  },
  {
   "cell_type": "code",
   "execution_count": 57,
   "id": "4e542624",
   "metadata": {},
   "outputs": [
    {
     "data": {
      "text/plain": [
       "array([0.99587   , 0.90271134, 0.61219613, 0.97315604, 0.82562653,\n",
       "       0.954434  , 0.77934984])"
      ]
     },
     "execution_count": 57,
     "metadata": {},
     "output_type": "execute_result"
    }
   ],
   "source": [
    "# Энтропия в каждом листе дерева\n",
    "another_clf.tree_.impurity"
   ]
  },
  {
   "cell_type": "code",
   "execution_count": 62,
   "id": "e5ff8dd0",
   "metadata": {},
   "outputs": [],
   "source": [
    "Entropy_root = another_clf.tree_.impurity[0] "
   ]
  },
  {
   "cell_type": "code",
   "execution_count": 64,
   "id": "45fdcd2b",
   "metadata": {},
   "outputs": [],
   "source": [
    "Samples_root  =another_clf.tree_.n_node_samples[0]"
   ]
  },
  {
   "cell_type": "code",
   "execution_count": 63,
   "id": "e2577102",
   "metadata": {},
   "outputs": [],
   "source": [
    "Samples_left = another_clf.tree_.n_node_samples[1]"
   ]
  },
  {
   "cell_type": "code",
   "execution_count": 65,
   "id": "fed5008e",
   "metadata": {},
   "outputs": [],
   "source": [
    "Entropy_left = another_clf.tree_.impurity[1]"
   ]
  },
  {
   "cell_type": "code",
   "execution_count": 66,
   "id": "ba3db801",
   "metadata": {},
   "outputs": [],
   "source": [
    "Samples_right = another_clf.tree_.n_node_samples[4]"
   ]
  },
  {
   "cell_type": "code",
   "execution_count": 67,
   "id": "10dc99fc",
   "metadata": {},
   "outputs": [],
   "source": [
    "Entropy_right = another_clf.tree_.impurity[4]"
   ]
  },
  {
   "cell_type": "code",
   "execution_count": 69,
   "id": "04311b6b",
   "metadata": {},
   "outputs": [],
   "source": [
    "# рассчитываем IG для корня дерева\n",
    "IG_root = Entropy_root - (Samples_left/Samples_root*Entropy_left + Samples_right/Samples_root*Entropy_right)"
   ]
  },
  {
   "cell_type": "code",
   "execution_count": 70,
   "id": "c36dc23f",
   "metadata": {},
   "outputs": [
    {
     "data": {
      "text/plain": [
       "0.11939340343891591"
      ]
     },
     "execution_count": 70,
     "metadata": {},
     "output_type": "execute_result"
    }
   ],
   "source": [
    "IG_root"
   ]
  },
  {
   "cell_type": "code",
   "execution_count": null,
   "id": "2c8042aa",
   "metadata": {},
   "outputs": [],
   "source": []
  }
 ],
 "metadata": {
  "kernelspec": {
   "display_name": "Python 3 (ipykernel)",
   "language": "python",
   "name": "python3"
  },
  "language_info": {
   "codemirror_mode": {
    "name": "ipython",
    "version": 3
   },
   "file_extension": ".py",
   "mimetype": "text/x-python",
   "name": "python",
   "nbconvert_exporter": "python",
   "pygments_lexer": "ipython3",
   "version": "3.9.6"
  }
 },
 "nbformat": 4,
 "nbformat_minor": 5
}
