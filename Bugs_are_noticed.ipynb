{
  "nbformat": 4,
  "nbformat_minor": 5,
  "metadata": {
    "kernelspec": {
      "display_name": "Python 3 (ipykernel)",
      "language": "python",
      "name": "python3"
    },
    "language_info": {
      "codemirror_mode": {
        "name": "ipython",
        "version": 3
      },
      "file_extension": ".py",
      "mimetype": "text/x-python",
      "name": "python",
      "nbconvert_exporter": "python",
      "pygments_lexer": "ipython3",
      "version": "3.9.6"
    },
    "colab": {
      "name": "Bugs_are_noticed.ipynb",
      "provenance": [],
      "include_colab_link": true
    }
  },
  "cells": [
    {
      "cell_type": "markdown",
      "metadata": {
        "id": "view-in-github",
        "colab_type": "text"
      },
      "source": [
        "<a href=\"https://colab.research.google.com/github/taerd/DSIntro/blob/master/Bugs_are_noticed.ipynb\" target=\"_parent\"><img src=\"https://colab.research.google.com/assets/colab-badge.svg\" alt=\"Open In Colab\"/></a>"
      ]
    },
    {
      "cell_type": "code",
      "metadata": {
        "id": "74d43d52"
      },
      "source": [
        "import pandas as pd\n",
        "import numpy as np\n",
        "import seaborn as sns\n",
        "import matplotlib.pyplot as plt\n",
        "%matplotlib inline\n",
        "\n",
        "# Label Encoding or Ordinal Encoding\n",
        "import category_encoders as ce"
      ],
      "id": "74d43d52",
      "execution_count": null,
      "outputs": []
    },
    {
      "cell_type": "code",
      "metadata": {
        "id": "26c440cb"
      },
      "source": [
        "df = pd.read_csv('https://stepik.org/media/attachments/course/4852/invasion.csv')"
      ],
      "id": "26c440cb",
      "execution_count": null,
      "outputs": []
    },
    {
      "cell_type": "code",
      "metadata": {
        "id": "b090cf09",
        "outputId": "a9d733dc-5494-4498-ce85-488adcdce2a9"
      },
      "source": [
        "df.head()"
      ],
      "id": "b090cf09",
      "execution_count": null,
      "outputs": [
        {
          "data": {
            "text/html": [
              "<div>\n",
              "<style scoped>\n",
              "    .dataframe tbody tr th:only-of-type {\n",
              "        vertical-align: middle;\n",
              "    }\n",
              "\n",
              "    .dataframe tbody tr th {\n",
              "        vertical-align: top;\n",
              "    }\n",
              "\n",
              "    .dataframe thead th {\n",
              "        text-align: right;\n",
              "    }\n",
              "</style>\n",
              "<table border=\"1\" class=\"dataframe\">\n",
              "  <thead>\n",
              "    <tr style=\"text-align: right;\">\n",
              "      <th></th>\n",
              "      <th>class</th>\n",
              "      <th>g_reflection</th>\n",
              "      <th>i_reflection</th>\n",
              "      <th>speed</th>\n",
              "      <th>brightness</th>\n",
              "      <th>time_of_observance</th>\n",
              "      <th>volume</th>\n",
              "    </tr>\n",
              "  </thead>\n",
              "  <tbody>\n",
              "    <tr>\n",
              "      <th>0</th>\n",
              "      <td>transport</td>\n",
              "      <td>2.190672</td>\n",
              "      <td>6.716633</td>\n",
              "      <td>62.168208</td>\n",
              "      <td>0.347465</td>\n",
              "      <td>158221</td>\n",
              "      <td>44.932446</td>\n",
              "    </tr>\n",
              "    <tr>\n",
              "      <th>1</th>\n",
              "      <td>transport</td>\n",
              "      <td>3.453276</td>\n",
              "      <td>8.995909</td>\n",
              "      <td>62.994707</td>\n",
              "      <td>0.590094</td>\n",
              "      <td>385972</td>\n",
              "      <td>41.568300</td>\n",
              "    </tr>\n",
              "    <tr>\n",
              "      <th>2</th>\n",
              "      <td>transport</td>\n",
              "      <td>2.432994</td>\n",
              "      <td>6.938691</td>\n",
              "      <td>62.245807</td>\n",
              "      <td>0.329288</td>\n",
              "      <td>446482</td>\n",
              "      <td>40.123467</td>\n",
              "    </tr>\n",
              "    <tr>\n",
              "      <th>3</th>\n",
              "      <td>fighter</td>\n",
              "      <td>6.083763</td>\n",
              "      <td>3.019459</td>\n",
              "      <td>18.474555</td>\n",
              "      <td>0.174738</td>\n",
              "      <td>210125</td>\n",
              "      <td>11.384865</td>\n",
              "    </tr>\n",
              "    <tr>\n",
              "      <th>4</th>\n",
              "      <td>fighter</td>\n",
              "      <td>12.876769</td>\n",
              "      <td>2.452950</td>\n",
              "      <td>195.805771</td>\n",
              "      <td>0.150446</td>\n",
              "      <td>23109</td>\n",
              "      <td>11.328806</td>\n",
              "    </tr>\n",
              "  </tbody>\n",
              "</table>\n",
              "</div>"
            ],
            "text/plain": [
              "       class  g_reflection  i_reflection       speed  brightness  \\\n",
              "0  transport      2.190672      6.716633   62.168208    0.347465   \n",
              "1  transport      3.453276      8.995909   62.994707    0.590094   \n",
              "2  transport      2.432994      6.938691   62.245807    0.329288   \n",
              "3    fighter      6.083763      3.019459   18.474555    0.174738   \n",
              "4    fighter     12.876769      2.452950  195.805771    0.150446   \n",
              "\n",
              "   time_of_observance     volume  \n",
              "0              158221  44.932446  \n",
              "1              385972  41.568300  \n",
              "2              446482  40.123467  \n",
              "3              210125  11.384865  \n",
              "4               23109  11.328806  "
            ]
          },
          "execution_count": 3,
          "metadata": {},
          "output_type": "execute_result"
        }
      ]
    },
    {
      "cell_type": "code",
      "metadata": {
        "id": "303a1990",
        "outputId": "2e85946d-5c7e-447d-ab6f-fe07b5d2cd74"
      },
      "source": [
        "df.isnull().sum()"
      ],
      "id": "303a1990",
      "execution_count": null,
      "outputs": [
        {
          "data": {
            "text/plain": [
              "class                 0\n",
              "g_reflection          0\n",
              "i_reflection          0\n",
              "speed                 0\n",
              "brightness            0\n",
              "time_of_observance    0\n",
              "volume                0\n",
              "dtype: int64"
            ]
          },
          "execution_count": 4,
          "metadata": {},
          "output_type": "execute_result"
        }
      ]
    },
    {
      "cell_type": "code",
      "metadata": {
        "id": "480b5644",
        "outputId": "0356e32c-3b7f-4ca3-abed-c4e6479d5e34"
      },
      "source": [
        "df['class'].unique()"
      ],
      "id": "480b5644",
      "execution_count": null,
      "outputs": [
        {
          "data": {
            "text/plain": [
              "array(['transport', 'fighter', 'cruiser'], dtype=object)"
            ]
          },
          "execution_count": 5,
          "metadata": {},
          "output_type": "execute_result"
        }
      ]
    },
    {
      "cell_type": "code",
      "metadata": {
        "id": "908bb3cf"
      },
      "source": [
        "encoder = ce.OrdinalEncoder(cols = ['class'], return_df  = True, \\\n",
        "                           mapping = [{'col' : 'class','mapping' : {'transport' : 1 , 'fighter' : 2 , 'cruiser' : 3}}])"
      ],
      "id": "908bb3cf",
      "execution_count": null,
      "outputs": []
    },
    {
      "cell_type": "code",
      "metadata": {
        "scrolled": true,
        "id": "9045674f",
        "outputId": "9a5ef7db-84c6-4588-b9a0-b31dc7b81ce2"
      },
      "source": [
        "df_transformed = encoder.fit_transform(df)"
      ],
      "id": "9045674f",
      "execution_count": null,
      "outputs": [
        {
          "name": "stderr",
          "output_type": "stream",
          "text": [
            "d:\\code\\python interpritator\\lib\\site-packages\\category_encoders\\utils.py:21: FutureWarning: is_categorical is deprecated and will be removed in a future version.  Use is_categorical_dtype instead\n",
            "  elif pd.api.types.is_categorical(cols):\n"
          ]
        }
      ]
    },
    {
      "cell_type": "code",
      "metadata": {
        "id": "b4a17489"
      },
      "source": [
        "df = df_transformed"
      ],
      "id": "b4a17489",
      "execution_count": null,
      "outputs": []
    },
    {
      "cell_type": "code",
      "metadata": {
        "id": "7e405dce"
      },
      "source": [
        "# отбор целевой переменной и выборки\n",
        "y = df['class']\n",
        "X = df.drop(['class'],axis =1)"
      ],
      "id": "7e405dce",
      "execution_count": null,
      "outputs": []
    },
    {
      "cell_type": "code",
      "metadata": {
        "id": "09799319",
        "outputId": "0dba6ede-f12c-4db2-d7e6-aac4a1e976da"
      },
      "source": [
        "df.corr()"
      ],
      "id": "09799319",
      "execution_count": null,
      "outputs": [
        {
          "data": {
            "text/html": [
              "<div>\n",
              "<style scoped>\n",
              "    .dataframe tbody tr th:only-of-type {\n",
              "        vertical-align: middle;\n",
              "    }\n",
              "\n",
              "    .dataframe tbody tr th {\n",
              "        vertical-align: top;\n",
              "    }\n",
              "\n",
              "    .dataframe thead th {\n",
              "        text-align: right;\n",
              "    }\n",
              "</style>\n",
              "<table border=\"1\" class=\"dataframe\">\n",
              "  <thead>\n",
              "    <tr style=\"text-align: right;\">\n",
              "      <th></th>\n",
              "      <th>class</th>\n",
              "      <th>g_reflection</th>\n",
              "      <th>i_reflection</th>\n",
              "      <th>speed</th>\n",
              "      <th>brightness</th>\n",
              "      <th>time_of_observance</th>\n",
              "      <th>volume</th>\n",
              "    </tr>\n",
              "  </thead>\n",
              "  <tbody>\n",
              "    <tr>\n",
              "      <th>class</th>\n",
              "      <td>1.000000</td>\n",
              "      <td>0.863206</td>\n",
              "      <td>-0.055665</td>\n",
              "      <td>0.464071</td>\n",
              "      <td>-0.072624</td>\n",
              "      <td>-0.007152</td>\n",
              "      <td>0.652622</td>\n",
              "    </tr>\n",
              "    <tr>\n",
              "      <th>g_reflection</th>\n",
              "      <td>0.863206</td>\n",
              "      <td>1.000000</td>\n",
              "      <td>-0.182375</td>\n",
              "      <td>0.465410</td>\n",
              "      <td>-0.219170</td>\n",
              "      <td>-0.012570</td>\n",
              "      <td>0.448030</td>\n",
              "    </tr>\n",
              "    <tr>\n",
              "      <th>i_reflection</th>\n",
              "      <td>-0.055665</td>\n",
              "      <td>-0.182375</td>\n",
              "      <td>1.000000</td>\n",
              "      <td>-0.434940</td>\n",
              "      <td>0.715616</td>\n",
              "      <td>-0.020922</td>\n",
              "      <td>0.518784</td>\n",
              "    </tr>\n",
              "    <tr>\n",
              "      <th>speed</th>\n",
              "      <td>0.464071</td>\n",
              "      <td>0.465410</td>\n",
              "      <td>-0.434940</td>\n",
              "      <td>1.000000</td>\n",
              "      <td>-0.552377</td>\n",
              "      <td>-0.027782</td>\n",
              "      <td>-0.105198</td>\n",
              "    </tr>\n",
              "    <tr>\n",
              "      <th>brightness</th>\n",
              "      <td>-0.072624</td>\n",
              "      <td>-0.219170</td>\n",
              "      <td>0.715616</td>\n",
              "      <td>-0.552377</td>\n",
              "      <td>1.000000</td>\n",
              "      <td>0.013765</td>\n",
              "      <td>0.642957</td>\n",
              "    </tr>\n",
              "    <tr>\n",
              "      <th>time_of_observance</th>\n",
              "      <td>-0.007152</td>\n",
              "      <td>-0.012570</td>\n",
              "      <td>-0.020922</td>\n",
              "      <td>-0.027782</td>\n",
              "      <td>0.013765</td>\n",
              "      <td>1.000000</td>\n",
              "      <td>0.026136</td>\n",
              "    </tr>\n",
              "    <tr>\n",
              "      <th>volume</th>\n",
              "      <td>0.652622</td>\n",
              "      <td>0.448030</td>\n",
              "      <td>0.518784</td>\n",
              "      <td>-0.105198</td>\n",
              "      <td>0.642957</td>\n",
              "      <td>0.026136</td>\n",
              "      <td>1.000000</td>\n",
              "    </tr>\n",
              "  </tbody>\n",
              "</table>\n",
              "</div>"
            ],
            "text/plain": [
              "                       class  g_reflection  i_reflection     speed  \\\n",
              "class               1.000000      0.863206     -0.055665  0.464071   \n",
              "g_reflection        0.863206      1.000000     -0.182375  0.465410   \n",
              "i_reflection       -0.055665     -0.182375      1.000000 -0.434940   \n",
              "speed               0.464071      0.465410     -0.434940  1.000000   \n",
              "brightness         -0.072624     -0.219170      0.715616 -0.552377   \n",
              "time_of_observance -0.007152     -0.012570     -0.020922 -0.027782   \n",
              "volume              0.652622      0.448030      0.518784 -0.105198   \n",
              "\n",
              "                    brightness  time_of_observance    volume  \n",
              "class                -0.072624           -0.007152  0.652622  \n",
              "g_reflection         -0.219170           -0.012570  0.448030  \n",
              "i_reflection          0.715616           -0.020922  0.518784  \n",
              "speed                -0.552377           -0.027782 -0.105198  \n",
              "brightness            1.000000            0.013765  0.642957  \n",
              "time_of_observance    0.013765            1.000000  0.026136  \n",
              "volume                0.642957            0.026136  1.000000  "
            ]
          },
          "execution_count": 10,
          "metadata": {},
          "output_type": "execute_result"
        }
      ]
    },
    {
      "cell_type": "code",
      "metadata": {
        "id": "5a750d75",
        "outputId": "a4aa93e9-0179-4b35-ad2f-5ddfa8703ff8"
      },
      "source": [
        "# матрица корреляции признаков\n",
        "# простой вариант\n",
        "sns.heatmap(df.corr(),annot = True)"
      ],
      "id": "5a750d75",
      "execution_count": null,
      "outputs": [
        {
          "data": {
            "text/plain": [
              "<AxesSubplot:>"
            ]
          },
          "execution_count": 11,
          "metadata": {},
          "output_type": "execute_result"
        },
        {
          "data": {
            "image/png": "[encoded data removed]",
            "text/plain": [
              "<Figure size 432x288 with 2 Axes>"
            ]
          },
          "metadata": {
            "needs_background": "light"
          },
          "output_type": "display_data"
        }
      ]
    },
    {
      "cell_type": "code",
      "metadata": {
        "id": "ffa4d53a"
      },
      "source": [
        "def correlation_map(data, method):\n",
        "    \n",
        "    corr = data.corr(method)\n",
        "    ix = corr.sort_values('class', ascending=False,).index\n",
        "    df_sorted_by_correlation = data.loc[:, ix]\n",
        "    \n",
        "    corr = df_sorted_by_correlation.corr(method)\n",
        "    plt.subplots(figsize=(18,14))\n",
        "    with sns.axes_style(\"white\"):\n",
        "        # display a correlation heatmap\n",
        "        ax = sns.heatmap(corr, annot=True)\n",
        "    plt.show()"
      ],
      "id": "ffa4d53a",
      "execution_count": null,
      "outputs": []
    },
    {
      "cell_type": "code",
      "metadata": {
        "id": "3dfd1d01",
        "outputId": "0b0787cc-19ab-4750-bbdb-56566308aabb"
      },
      "source": [
        "# с классом наибольшую корреляцию имеет g_reflection\n",
        "# сильно корреллированные признаки следует убрать для получения точных результатов\n",
        "# в данном случае  brightness&volume и тд..\n",
        "correlation_map(df, method=\"spearman\")"
      ],
      "id": "3dfd1d01",
      "execution_count": null,
      "outputs": [
        {
          "data": {
            "image/png": "[encoded data removed]",
            "text/plain": [
              "<Figure size 1296x1008 with 2 Axes>"
            ]
          },
          "metadata": {
            "needs_background": "light"
          },
          "output_type": "display_data"
        }
      ]
    },
    {
      "cell_type": "code",
      "metadata": {
        "id": "5d53116b"
      },
      "source": [
        "# выбор наилучших параметров для модели:\n",
        "# Оценка взаимной информации для дискретной целевой переменной.\n",
        "\n",
        "# Взаимная информация (MI)  между двумя случайными величинами является неотрицательным значением,\n",
        "# которое измеряет зависимость между переменными. \n",
        "# Она равна нулю тогда и только тогда, когда две случайные величины независимы, \n",
        "# а более высокие значения означают более высокую зависимость.\n",
        "\n",
        "# Функция опирается на непараметрические методы,\n",
        "# основанные на оценке энтропии из k-ближайших расстояний соседей\n",
        "from sklearn.feature_selection import mutual_info_classif , SelectKBest\n"
      ],
      "id": "5d53116b",
      "execution_count": null,
      "outputs": []
    },
    {
      "cell_type": "code",
      "metadata": {
        "id": "6593753c",
        "outputId": "af71e726-06c8-43b5-935d-34199fa2482e"
      },
      "source": [
        "mutual_info_classif(X,y,random_state = 12)"
      ],
      "id": "6593753c",
      "execution_count": null,
      "outputs": [
        {
          "data": {
            "text/plain": [
              "array([0.69593867, 0.68042831, 0.63882368, 0.82214949, 0.        ,\n",
              "       1.00214309])"
            ]
          },
          "execution_count": 15,
          "metadata": {},
          "output_type": "execute_result"
        }
      ]
    },
    {
      "cell_type": "code",
      "metadata": {
        "id": "01b70e2f"
      },
      "source": [
        "def SelectKBestCustomized(X,y, k, score_func):\n",
        "    np.random.seed(12) # for mutual_info regression\n",
        "    fs = SelectKBest(score_func=score_func, k=k)\n",
        "    fs.fit(X, y)\n",
        "    mask = fs.get_support()\n",
        "    selected_features = [feature for bool, feature in zip(mask, X.columns) if bool]\n",
        "    return selected_features"
      ],
      "id": "01b70e2f",
      "execution_count": null,
      "outputs": []
    },
    {
      "cell_type": "code",
      "metadata": {
        "id": "216c20e2",
        "outputId": "97896435-f274-41a1-9fa9-6a20ec82eb39"
      },
      "source": [
        "# отбор параметров (k)\n",
        "mutual_info_selection = SelectKBestCustomized(X,y, 5, mutual_info_classif)\n",
        "mutual_info_selection"
      ],
      "id": "216c20e2",
      "execution_count": null,
      "outputs": [
        {
          "data": {
            "text/plain": [
              "['g_reflection', 'i_reflection', 'speed', 'brightness', 'volume']"
            ]
          },
          "execution_count": 17,
          "metadata": {},
          "output_type": "execute_result"
        }
      ]
    },
    {
      "cell_type": "code",
      "metadata": {
        "id": "95a1f40c"
      },
      "source": [
        "X = X[['g_reflection', 'i_reflection', 'speed', 'brightness', 'volume']]"
      ],
      "id": "95a1f40c",
      "execution_count": null,
      "outputs": []
    },
    {
      "cell_type": "code",
      "metadata": {
        "id": "27832c0b",
        "outputId": "971e85d1-38dc-48fc-e3e4-f82e307d3071"
      },
      "source": [
        "df['class'].index"
      ],
      "id": "27832c0b",
      "execution_count": null,
      "outputs": [
        {
          "data": {
            "text/plain": [
              "RangeIndex(start=0, stop=500, step=1)"
            ]
          },
          "execution_count": 19,
          "metadata": {},
          "output_type": "execute_result"
        }
      ]
    },
    {
      "cell_type": "code",
      "metadata": {
        "id": "74961e75",
        "outputId": "7dd1a905-9611-4b1b-91fe-44a7eb32a4f4"
      },
      "source": [
        "# распеределение классов\n",
        "sns.barplot( x= 'class' , y = df['class'].index , data = df)"
      ],
      "id": "74961e75",
      "execution_count": null,
      "outputs": [
        {
          "data": {
            "text/plain": [
              "<AxesSubplot:xlabel='class'>"
            ]
          },
          "execution_count": 20,
          "metadata": {},
          "output_type": "execute_result"
        },
        {
          "data": {
            "image/png": "[encoded data removed]",
            "text/plain": [
              "<Figure size 432x288 with 1 Axes>"
            ]
          },
          "metadata": {
            "needs_background": "light"
          },
          "output_type": "display_data"
        }
      ]
    },
    {
      "cell_type": "code",
      "metadata": {
        "id": "b7a5e703"
      },
      "source": [
        "# обучение модели\n",
        "from sklearn.ensemble import RandomForestClassifier\n",
        "from sklearn.model_selection import GridSearchCV"
      ],
      "id": "b7a5e703",
      "execution_count": null,
      "outputs": []
    },
    {
      "cell_type": "code",
      "metadata": {
        "id": "83c58f5a"
      },
      "source": [
        "clf_rf = RandomForestClassifier(random_state=123)"
      ],
      "id": "83c58f5a",
      "execution_count": null,
      "outputs": []
    },
    {
      "cell_type": "code",
      "metadata": {
        "id": "718e7206"
      },
      "source": [
        "params = {'n_estimators' : [5,7,9,11], \\\n",
        "          'max_depth' : range(1,5), \\\n",
        "          'min_samples_leaf' : range(1,6), \\\n",
        "          'min_samples_split' : range(2,9,2) }"
      ],
      "id": "718e7206",
      "execution_count": null,
      "outputs": []
    },
    {
      "cell_type": "code",
      "metadata": {
        "id": "aca375f2"
      },
      "source": [
        "grid_search_cv_clf = GridSearchCV(clf_rf,params,cv=3,n_jobs=-1)"
      ],
      "id": "aca375f2",
      "execution_count": null,
      "outputs": []
    },
    {
      "cell_type": "code",
      "metadata": {
        "id": "8894c2e4",
        "outputId": "cee6065d-b61b-440e-d80d-5dcc38a77172"
      },
      "source": [
        "grid_search_cv_clf.fit(X,y)"
      ],
      "id": "8894c2e4",
      "execution_count": null,
      "outputs": [
        {
          "data": {
            "text/plain": [
              "GridSearchCV(cv=3, estimator=RandomForestClassifier(random_state=123),\n",
              "             n_jobs=-1,\n",
              "             param_grid={'max_depth': range(1, 5),\n",
              "                         'min_samples_leaf': range(1, 6),\n",
              "                         'min_samples_split': range(2, 9, 2),\n",
              "                         'n_estimators': [5, 7, 9, 11]})"
            ]
          },
          "execution_count": 25,
          "metadata": {},
          "output_type": "execute_result"
        }
      ]
    },
    {
      "cell_type": "code",
      "metadata": {
        "id": "7f5bbab2",
        "outputId": "d3c75160-e654-4cc4-9fbb-9d8018761797"
      },
      "source": [
        "grid_search_cv_clf.best_params_"
      ],
      "id": "7f5bbab2",
      "execution_count": null,
      "outputs": [
        {
          "data": {
            "text/plain": [
              "{'max_depth': 2,\n",
              " 'min_samples_leaf': 1,\n",
              " 'min_samples_split': 2,\n",
              " 'n_estimators': 5}"
            ]
          },
          "execution_count": 26,
          "metadata": {},
          "output_type": "execute_result"
        }
      ]
    },
    {
      "cell_type": "code",
      "metadata": {
        "id": "cc45501c"
      },
      "source": [
        "best_clf = grid_search_cv_clf.best_estimator_"
      ],
      "id": "cc45501c",
      "execution_count": null,
      "outputs": []
    },
    {
      "cell_type": "code",
      "metadata": {
        "id": "64dd93b8"
      },
      "source": [
        "# предсказание на новых данных\n",
        "test_df = pd.read_csv('https://stepik.org/media/attachments/course/4852/operative_information.csv')"
      ],
      "id": "64dd93b8",
      "execution_count": null,
      "outputs": []
    },
    {
      "cell_type": "code",
      "metadata": {
        "id": "ec5ceed2",
        "outputId": "eaec4697-1f06-4817-92cd-d2c4dd1e6ea7"
      },
      "source": [
        "test_df.head()"
      ],
      "id": "ec5ceed2",
      "execution_count": null,
      "outputs": [
        {
          "data": {
            "text/html": [
              "<div>\n",
              "<style scoped>\n",
              "    .dataframe tbody tr th:only-of-type {\n",
              "        vertical-align: middle;\n",
              "    }\n",
              "\n",
              "    .dataframe tbody tr th {\n",
              "        vertical-align: top;\n",
              "    }\n",
              "\n",
              "    .dataframe thead th {\n",
              "        text-align: right;\n",
              "    }\n",
              "</style>\n",
              "<table border=\"1\" class=\"dataframe\">\n",
              "  <thead>\n",
              "    <tr style=\"text-align: right;\">\n",
              "      <th></th>\n",
              "      <th>g_reflection</th>\n",
              "      <th>i_reflection</th>\n",
              "      <th>speed</th>\n",
              "      <th>brightness</th>\n",
              "      <th>time_of_observance</th>\n",
              "      <th>volume</th>\n",
              "    </tr>\n",
              "  </thead>\n",
              "  <tbody>\n",
              "    <tr>\n",
              "      <th>0</th>\n",
              "      <td>7.516543</td>\n",
              "      <td>3.916691</td>\n",
              "      <td>513.954279</td>\n",
              "      <td>0.177247</td>\n",
              "      <td>105908</td>\n",
              "      <td>13.267224</td>\n",
              "    </tr>\n",
              "    <tr>\n",
              "      <th>1</th>\n",
              "      <td>4.322988</td>\n",
              "      <td>6.967689</td>\n",
              "      <td>63.752970</td>\n",
              "      <td>0.545922</td>\n",
              "      <td>277855</td>\n",
              "      <td>39.833130</td>\n",
              "    </tr>\n",
              "    <tr>\n",
              "      <th>2</th>\n",
              "      <td>4.595724</td>\n",
              "      <td>9.098297</td>\n",
              "      <td>62.233948</td>\n",
              "      <td>0.389201</td>\n",
              "      <td>160662</td>\n",
              "      <td>42.014556</td>\n",
              "    </tr>\n",
              "    <tr>\n",
              "      <th>3</th>\n",
              "      <td>2.689675</td>\n",
              "      <td>7.964869</td>\n",
              "      <td>62.475495</td>\n",
              "      <td>0.541081</td>\n",
              "      <td>162092</td>\n",
              "      <td>42.056829</td>\n",
              "    </tr>\n",
              "    <tr>\n",
              "      <th>4</th>\n",
              "      <td>8.075576</td>\n",
              "      <td>5.169719</td>\n",
              "      <td>336.441261</td>\n",
              "      <td>0.174757</td>\n",
              "      <td>466853</td>\n",
              "      <td>11.779813</td>\n",
              "    </tr>\n",
              "  </tbody>\n",
              "</table>\n",
              "</div>"
            ],
            "text/plain": [
              "   g_reflection  i_reflection       speed  brightness  time_of_observance  \\\n",
              "0      7.516543      3.916691  513.954279    0.177247              105908   \n",
              "1      4.322988      6.967689   63.752970    0.545922              277855   \n",
              "2      4.595724      9.098297   62.233948    0.389201              160662   \n",
              "3      2.689675      7.964869   62.475495    0.541081              162092   \n",
              "4      8.075576      5.169719  336.441261    0.174757              466853   \n",
              "\n",
              "      volume  \n",
              "0  13.267224  \n",
              "1  39.833130  \n",
              "2  42.014556  \n",
              "3  42.056829  \n",
              "4  11.779813  "
            ]
          },
          "execution_count": 29,
          "metadata": {},
          "output_type": "execute_result"
        }
      ]
    },
    {
      "cell_type": "code",
      "metadata": {
        "id": "42e932c8"
      },
      "source": [
        "X_test = test_df[['g_reflection', 'i_reflection', 'speed', 'brightness', 'volume']]"
      ],
      "id": "42e932c8",
      "execution_count": null,
      "outputs": []
    },
    {
      "cell_type": "code",
      "metadata": {
        "id": "9b7f6ca6",
        "outputId": "3159e2a3-5221-4f91-f1c8-d2dc43dd7b58"
      },
      "source": [
        "# предсказание в количествах классов новых типов кораблей\n",
        "pd.Series(best_clf.predict(X_test)).value_counts()"
      ],
      "id": "9b7f6ca6",
      "execution_count": null,
      "outputs": [
        {
          "data": {
            "text/plain": [
              "2    675\n",
              "1    595\n",
              "3    230\n",
              "dtype: int64"
            ]
          },
          "execution_count": 31,
          "metadata": {},
          "output_type": "execute_result"
        }
      ]
    },
    {
      "cell_type": "code",
      "metadata": {
        "id": "5e3947e7"
      },
      "source": [
        "# важность параметров\n",
        "feature_importances = best_clf.feature_importances_"
      ],
      "id": "5e3947e7",
      "execution_count": null,
      "outputs": []
    },
    {
      "cell_type": "code",
      "metadata": {
        "id": "60bb9029",
        "outputId": "e2c622c5-c066-4578-cf7b-03792c056edc"
      },
      "source": [
        "feature_importances_df = pd.DataFrame({'features' : list(X) , 'feature_ratio' : feature_importances}).sort_values('feature_ratio', ascending = False)\n",
        "feature_importances_df "
      ],
      "id": "60bb9029",
      "execution_count": null,
      "outputs": [
        {
          "data": {
            "text/html": [
              "<div>\n",
              "<style scoped>\n",
              "    .dataframe tbody tr th:only-of-type {\n",
              "        vertical-align: middle;\n",
              "    }\n",
              "\n",
              "    .dataframe tbody tr th {\n",
              "        vertical-align: top;\n",
              "    }\n",
              "\n",
              "    .dataframe thead th {\n",
              "        text-align: right;\n",
              "    }\n",
              "</style>\n",
              "<table border=\"1\" class=\"dataframe\">\n",
              "  <thead>\n",
              "    <tr style=\"text-align: right;\">\n",
              "      <th></th>\n",
              "      <th>features</th>\n",
              "      <th>feature_ratio</th>\n",
              "    </tr>\n",
              "  </thead>\n",
              "  <tbody>\n",
              "    <tr>\n",
              "      <th>4</th>\n",
              "      <td>volume</td>\n",
              "      <td>0.422144</td>\n",
              "    </tr>\n",
              "    <tr>\n",
              "      <th>0</th>\n",
              "      <td>g_reflection</td>\n",
              "      <td>0.263640</td>\n",
              "    </tr>\n",
              "    <tr>\n",
              "      <th>3</th>\n",
              "      <td>brightness</td>\n",
              "      <td>0.136154</td>\n",
              "    </tr>\n",
              "    <tr>\n",
              "      <th>1</th>\n",
              "      <td>i_reflection</td>\n",
              "      <td>0.112364</td>\n",
              "    </tr>\n",
              "    <tr>\n",
              "      <th>2</th>\n",
              "      <td>speed</td>\n",
              "      <td>0.065698</td>\n",
              "    </tr>\n",
              "  </tbody>\n",
              "</table>\n",
              "</div>"
            ],
            "text/plain": [
              "       features  feature_ratio\n",
              "4        volume       0.422144\n",
              "0  g_reflection       0.263640\n",
              "3    brightness       0.136154\n",
              "1  i_reflection       0.112364\n",
              "2         speed       0.065698"
            ]
          },
          "execution_count": 33,
          "metadata": {},
          "output_type": "execute_result"
        }
      ]
    },
    {
      "cell_type": "code",
      "metadata": {
        "id": "938928fb",
        "outputId": "e14c6503-8c3e-487e-944b-e87adfcd0e86"
      },
      "source": [
        "plt.subplots(figsize=(10, 10))\n",
        "sns.barplot(y=feature_importances_df.features, x=feature_importances_df.feature_ratio)\n",
        "\n",
        "plt.xlabel('Важность атрибутов')\n",
        "plt.ylabel('Атрибуты')\n",
        "plt.title(\"Наиболее важные атрибуты\")\n",
        "plt.show()"
      ],
      "id": "938928fb",
      "execution_count": null,
      "outputs": [
        {
          "data": {
            "image/png": "[encoded data removed]",
            "text/plain": [
              "<Figure size 720x720 with 1 Axes>"
            ]
          },
          "metadata": {
            "needs_background": "light"
          },
          "output_type": "display_data"
        }
      ]
    },
    {
      "cell_type": "code",
      "metadata": {
        "id": "db0d53ca"
      },
      "source": [
        "# # оценки вычислений\n",
        "# from sklearn import metrics"
      ],
      "id": "db0d53ca",
      "execution_count": null,
      "outputs": []
    },
    {
      "cell_type": "code",
      "metadata": {
        "id": "6bdb7cc3"
      },
      "source": [
        "# def evaluate_model(y_predict, y_test):\n",
        "        \n",
        "#     # Evaluate the performance of model using the test data. \n",
        "#     # Use accuracy score, precision, recall and confusion matrix as performance metrics. \n",
        "    \n",
        "#     confusion_matrix_ = metrics.confusion_matrix(y_test, y_predict)\n",
        "#     sns.heatmap(confusion_matrix_, annot=True, fmt=\"d\")\n",
        "#     acc = metrics.accuracy_score(y_test, y_predict)\n",
        "#     prec_sc = metrics.precision_score(y_test, y_predict)\n",
        "#     rec_sc = metrics.recall_score(y_test, y_predict)\n",
        "#     print(\"Accuracy: \", acc, \n",
        "#           #\"\\nPrecision: \", prec_sc,\n",
        "#           \"\\nRecall: \", rec_sc,\n",
        "#           \"\\n\\nConfusion Matrix: \")"
      ],
      "id": "6bdb7cc3",
      "execution_count": null,
      "outputs": []
    },
    {
      "cell_type": "code",
      "metadata": {
        "id": "6170f1e0"
      },
      "source": [
        "# evaluate_model(pd.Series(best_clf.predict(X)),y)"
      ],
      "id": "6170f1e0",
      "execution_count": null,
      "outputs": []
    },
    {
      "cell_type": "code",
      "metadata": {
        "id": "94a878c3"
      },
      "source": [
        "# Другое задание"
      ],
      "id": "94a878c3",
      "execution_count": null,
      "outputs": []
    },
    {
      "cell_type": "code",
      "metadata": {
        "id": "b380e2f4"
      },
      "source": [
        "df = pd.read_csv('https://stepik.org/media/attachments/course/4852/space_can_be_a_dangerous_place.csv')"
      ],
      "id": "b380e2f4",
      "execution_count": null,
      "outputs": []
    },
    {
      "cell_type": "code",
      "metadata": {
        "id": "a83430ad",
        "outputId": "49afee92-201b-4c5f-cdde-daca750d0cbc"
      },
      "source": [
        "df.head()"
      ],
      "id": "a83430ad",
      "execution_count": null,
      "outputs": [
        {
          "data": {
            "text/html": [
              "<div>\n",
              "<style scoped>\n",
              "    .dataframe tbody tr th:only-of-type {\n",
              "        vertical-align: middle;\n",
              "    }\n",
              "\n",
              "    .dataframe tbody tr th {\n",
              "        vertical-align: top;\n",
              "    }\n",
              "\n",
              "    .dataframe thead th {\n",
              "        text-align: right;\n",
              "    }\n",
              "</style>\n",
              "<table border=\"1\" class=\"dataframe\">\n",
              "  <thead>\n",
              "    <tr style=\"text-align: right;\">\n",
              "      <th></th>\n",
              "      <th>r</th>\n",
              "      <th>phi</th>\n",
              "      <th>peradventure_index</th>\n",
              "      <th>dustiness</th>\n",
              "      <th>black_hole_is_near</th>\n",
              "      <th>buggers_were_noticed</th>\n",
              "      <th>nearby_system_has_planemo</th>\n",
              "      <th>dangerous</th>\n",
              "    </tr>\n",
              "  </thead>\n",
              "  <tbody>\n",
              "    <tr>\n",
              "      <th>0</th>\n",
              "      <td>169.1</td>\n",
              "      <td>138.0</td>\n",
              "      <td>22.3212</td>\n",
              "      <td>0.706285</td>\n",
              "      <td>0</td>\n",
              "      <td>1</td>\n",
              "      <td>1</td>\n",
              "      <td>1</td>\n",
              "    </tr>\n",
              "    <tr>\n",
              "      <th>1</th>\n",
              "      <td>11.1</td>\n",
              "      <td>148.0</td>\n",
              "      <td>1.4652</td>\n",
              "      <td>-0.410512</td>\n",
              "      <td>1</td>\n",
              "      <td>1</td>\n",
              "      <td>1</td>\n",
              "      <td>1</td>\n",
              "    </tr>\n",
              "    <tr>\n",
              "      <th>2</th>\n",
              "      <td>274.6</td>\n",
              "      <td>201.0</td>\n",
              "      <td>36.2472</td>\n",
              "      <td>0.756457</td>\n",
              "      <td>1</td>\n",
              "      <td>1</td>\n",
              "      <td>1</td>\n",
              "      <td>1</td>\n",
              "    </tr>\n",
              "    <tr>\n",
              "      <th>3</th>\n",
              "      <td>172.8</td>\n",
              "      <td>173.0</td>\n",
              "      <td>22.8096</td>\n",
              "      <td>0.035221</td>\n",
              "      <td>1</td>\n",
              "      <td>1</td>\n",
              "      <td>1</td>\n",
              "      <td>1</td>\n",
              "    </tr>\n",
              "    <tr>\n",
              "      <th>4</th>\n",
              "      <td>223.3</td>\n",
              "      <td>222.0</td>\n",
              "      <td>29.4756</td>\n",
              "      <td>0.197271</td>\n",
              "      <td>0</td>\n",
              "      <td>1</td>\n",
              "      <td>1</td>\n",
              "      <td>1</td>\n",
              "    </tr>\n",
              "  </tbody>\n",
              "</table>\n",
              "</div>"
            ],
            "text/plain": [
              "       r    phi  peradventure_index  dustiness  black_hole_is_near  \\\n",
              "0  169.1  138.0             22.3212   0.706285                   0   \n",
              "1   11.1  148.0              1.4652  -0.410512                   1   \n",
              "2  274.6  201.0             36.2472   0.756457                   1   \n",
              "3  172.8  173.0             22.8096   0.035221                   1   \n",
              "4  223.3  222.0             29.4756   0.197271                   0   \n",
              "\n",
              "   buggers_were_noticed  nearby_system_has_planemo  dangerous  \n",
              "0                     1                          1          1  \n",
              "1                     1                          1          1  \n",
              "2                     1                          1          1  \n",
              "3                     1                          1          1  \n",
              "4                     1                          1          1  "
            ]
          },
          "execution_count": 40,
          "metadata": {},
          "output_type": "execute_result"
        }
      ]
    },
    {
      "cell_type": "code",
      "metadata": {
        "id": "daa19c5c",
        "outputId": "3dcb1a2b-a8fb-4209-ff6a-3fb046ce414d"
      },
      "source": [
        "df.isnull().sum()"
      ],
      "id": "daa19c5c",
      "execution_count": null,
      "outputs": [
        {
          "data": {
            "text/plain": [
              "r                            0\n",
              "phi                          0\n",
              "peradventure_index           0\n",
              "dustiness                    0\n",
              "black_hole_is_near           0\n",
              "buggers_were_noticed         0\n",
              "nearby_system_has_planemo    0\n",
              "dangerous                    0\n",
              "dtype: int64"
            ]
          },
          "execution_count": 41,
          "metadata": {},
          "output_type": "execute_result"
        }
      ]
    },
    {
      "cell_type": "code",
      "metadata": {
        "id": "82b2420d",
        "outputId": "d0c840db-6037-4e78-bded-b046e26817f9"
      },
      "source": [
        "df['dangerous'].unique()"
      ],
      "id": "82b2420d",
      "execution_count": null,
      "outputs": [
        {
          "data": {
            "text/plain": [
              "array([1, 0], dtype=int64)"
            ]
          },
          "execution_count": 42,
          "metadata": {},
          "output_type": "execute_result"
        }
      ]
    },
    {
      "cell_type": "code",
      "metadata": {
        "id": "73b04d42"
      },
      "source": [
        "y = df['dangerous']\n",
        "X = df.drop(['dangerous'],axis =1)"
      ],
      "id": "73b04d42",
      "execution_count": null,
      "outputs": []
    },
    {
      "cell_type": "code",
      "metadata": {
        "id": "e9b5cc13",
        "outputId": "2637ed58-f4c8-4d0d-bb38-c67fd6967b70"
      },
      "source": [
        "sns.heatmap(df.corr(),annot = True)"
      ],
      "id": "e9b5cc13",
      "execution_count": null,
      "outputs": [
        {
          "data": {
            "text/plain": [
              "<AxesSubplot:>"
            ]
          },
          "execution_count": 44,
          "metadata": {},
          "output_type": "execute_result"
        },
        {
          "data": {
            "image/png": "[encoded data removed]",
            "text/plain": [
              "<Figure size 432x288 with 2 Axes>"
            ]
          },
          "metadata": {
            "needs_background": "light"
          },
          "output_type": "display_data"
        }
      ]
    },
    {
      "cell_type": "code",
      "metadata": {
        "id": "b7d4a484",
        "outputId": "dc044284-e994-4bba-cc99-aaa4297a3ad6"
      },
      "source": [
        "mutual_info_classif(X,y,random_state = 12)"
      ],
      "id": "b7d4a484",
      "execution_count": null,
      "outputs": [
        {
          "data": {
            "text/plain": [
              "array([0.        , 0.00142985, 0.00015244, 0.00064818, 0.00256087,\n",
              "       0.05540907, 0.04220853])"
            ]
          },
          "execution_count": 45,
          "metadata": {},
          "output_type": "execute_result"
        }
      ]
    },
    {
      "cell_type": "code",
      "metadata": {
        "id": "015bfab2",
        "outputId": "cffb920a-c47a-4f48-c854-cbb61e30ab88"
      },
      "source": [
        "mutual_info_selection = SelectKBestCustomized(X,y, 3, mutual_info_classif)\n",
        "mutual_info_selection"
      ],
      "id": "015bfab2",
      "execution_count": null,
      "outputs": [
        {
          "data": {
            "text/plain": [
              "['black_hole_is_near', 'buggers_were_noticed', 'nearby_system_has_planemo']"
            ]
          },
          "execution_count": 46,
          "metadata": {},
          "output_type": "execute_result"
        }
      ]
    },
    {
      "cell_type": "code",
      "metadata": {
        "id": "4585106c"
      },
      "source": [
        "X = X[['black_hole_is_near', 'buggers_were_noticed', 'nearby_system_has_planemo']]"
      ],
      "id": "4585106c",
      "execution_count": null,
      "outputs": []
    },
    {
      "cell_type": "code",
      "metadata": {
        "id": "124d3b40",
        "outputId": "803efee4-14c0-4405-9796-bbdcc6d9d5b8"
      },
      "source": [
        "clf_rf = RandomForestClassifier(random_state=12)\n",
        "params = {'n_estimators' : [5,7,9,11], \\\n",
        "          'max_depth' : range(1,5), \\\n",
        "          'min_samples_leaf' : range(1,6), \\\n",
        "          'min_samples_split' : range(2,9,2) }\n",
        "grid_search_cv_clf = GridSearchCV(clf_rf,params,cv=3,n_jobs=-1)\n",
        "grid_search_cv_clf.fit(X,y)"
      ],
      "id": "124d3b40",
      "execution_count": null,
      "outputs": [
        {
          "data": {
            "text/plain": [
              "GridSearchCV(cv=3, estimator=RandomForestClassifier(random_state=12), n_jobs=-1,\n",
              "             param_grid={'max_depth': range(1, 5),\n",
              "                         'min_samples_leaf': range(1, 6),\n",
              "                         'min_samples_split': range(2, 9, 2),\n",
              "                         'n_estimators': [5, 7, 9, 11]})"
            ]
          },
          "execution_count": 48,
          "metadata": {},
          "output_type": "execute_result"
        }
      ]
    },
    {
      "cell_type": "code",
      "metadata": {
        "id": "07d13212",
        "outputId": "0c82f630-8e8a-46eb-d47f-8861d1caf9e4"
      },
      "source": [
        "grid_search_cv_clf.best_params_"
      ],
      "id": "07d13212",
      "execution_count": null,
      "outputs": [
        {
          "data": {
            "text/plain": [
              "{'max_depth': 2,\n",
              " 'min_samples_leaf': 1,\n",
              " 'min_samples_split': 2,\n",
              " 'n_estimators': 5}"
            ]
          },
          "execution_count": 49,
          "metadata": {},
          "output_type": "execute_result"
        }
      ]
    },
    {
      "cell_type": "code",
      "metadata": {
        "id": "1c58a646"
      },
      "source": [
        "best_clf = grid_search_cv_clf.best_estimator_"
      ],
      "id": "1c58a646",
      "execution_count": null,
      "outputs": []
    },
    {
      "cell_type": "code",
      "metadata": {
        "id": "a0e07446",
        "outputId": "2e19c83c-188c-4cdf-9005-5981ee4ed0fb"
      },
      "source": [
        "feature_importances = best_clf.feature_importances_\n",
        "feature_importances_df = pd.DataFrame({'features' : list(X) , 'feature_ratio' : feature_importances}).sort_values('feature_ratio', ascending = False)\n",
        "feature_importances_df "
      ],
      "id": "a0e07446",
      "execution_count": null,
      "outputs": [
        {
          "data": {
            "text/html": [
              "<div>\n",
              "<style scoped>\n",
              "    .dataframe tbody tr th:only-of-type {\n",
              "        vertical-align: middle;\n",
              "    }\n",
              "\n",
              "    .dataframe tbody tr th {\n",
              "        vertical-align: top;\n",
              "    }\n",
              "\n",
              "    .dataframe thead th {\n",
              "        text-align: right;\n",
              "    }\n",
              "</style>\n",
              "<table border=\"1\" class=\"dataframe\">\n",
              "  <thead>\n",
              "    <tr style=\"text-align: right;\">\n",
              "      <th></th>\n",
              "      <th>features</th>\n",
              "      <th>feature_ratio</th>\n",
              "    </tr>\n",
              "  </thead>\n",
              "  <tbody>\n",
              "    <tr>\n",
              "      <th>2</th>\n",
              "      <td>nearby_system_has_planemo</td>\n",
              "      <td>0.844077</td>\n",
              "    </tr>\n",
              "    <tr>\n",
              "      <th>1</th>\n",
              "      <td>buggers_were_noticed</td>\n",
              "      <td>0.132020</td>\n",
              "    </tr>\n",
              "    <tr>\n",
              "      <th>0</th>\n",
              "      <td>black_hole_is_near</td>\n",
              "      <td>0.023903</td>\n",
              "    </tr>\n",
              "  </tbody>\n",
              "</table>\n",
              "</div>"
            ],
            "text/plain": [
              "                    features  feature_ratio\n",
              "2  nearby_system_has_planemo       0.844077\n",
              "1       buggers_were_noticed       0.132020\n",
              "0         black_hole_is_near       0.023903"
            ]
          },
          "execution_count": 51,
          "metadata": {},
          "output_type": "execute_result"
        }
      ]
    },
    {
      "cell_type": "code",
      "metadata": {
        "id": "bf2d30ec",
        "outputId": "f882cb7a-99f0-43a7-e532-06f1265ccdf7"
      },
      "source": [
        "plt.subplots(figsize=(10, 10))\n",
        "sns.barplot(y=feature_importances_df.features, x=feature_importances_df.feature_ratio)\n",
        "\n",
        "plt.xlabel('Важность атрибутов')\n",
        "plt.ylabel('Атрибуты')\n",
        "plt.title(\"Наиболее важные атрибуты\")\n",
        "plt.show()"
      ],
      "id": "bf2d30ec",
      "execution_count": null,
      "outputs": [
        {
          "data": {
            "image/png": "[encoded data removed]",
            "text/plain": [
              "<Figure size 720x720 with 1 Axes>"
            ]
          },
          "metadata": {
            "needs_background": "light"
          },
          "output_type": "display_data"
        }
      ]
    },
    {
      "cell_type": "code",
      "metadata": {
        "id": "80821f8b"
      },
      "source": [
        ""
      ],
      "id": "80821f8b",
      "execution_count": null,
      "outputs": []
    }
  ]
}