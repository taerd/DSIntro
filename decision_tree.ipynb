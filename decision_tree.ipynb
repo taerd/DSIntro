{
  "nbformat": 4,
  "nbformat_minor": 5,
  "metadata": {
    "kernelspec": {
      "display_name": "Python 3 (ipykernel)",
      "language": "python",
      "name": "python3"
    },
    "language_info": {
      "codemirror_mode": {
        "name": "ipython",
        "version": 3
      },
      "file_extension": ".py",
      "mimetype": "text/x-python",
      "name": "python",
      "nbconvert_exporter": "python",
      "pygments_lexer": "ipython3",
      "version": "3.9.6"
    },
    "colab": {
      "name": "decision_tree.ipynb",
      "provenance": [],
      "collapsed_sections": [],
      "include_colab_link": true
    }
  },
  "cells": [
    {
      "cell_type": "markdown",
      "metadata": {
        "id": "view-in-github",
        "colab_type": "text"
      },
      "source": [
        "<a href=\"https://colab.research.google.com/github/taerd/DSIntro/blob/master/decision_tree.ipynb\" target=\"_parent\"><img src=\"https://colab.research.google.com/assets/colab-badge.svg\" alt=\"Open In Colab\"/></a>"
      ]
    },
    {
      "cell_type": "code",
      "metadata": {
        "id": "926fa9de"
      },
      "source": [
        "from sklearn import tree\n",
        "import pandas as pd\n",
        "import matplotlib.pyplot as plt\n",
        "import seaborn as sns\n",
        "import math as m\n",
        "%matplotlib inline"
      ],
      "id": "926fa9de",
      "execution_count": null,
      "outputs": []
    },
    {
      "cell_type": "code",
      "metadata": {
        "id": "8c90bd89"
      },
      "source": [
        "data = pd.DataFrame({\n",
        "    'X_1': [1, 1, 1, 0, 0, 0, 0, 1],\n",
        "    'X_2': [0, 0, 0, 1, 0, 0, 0, 1],\n",
        "    'Y': [1, 1, 1, 1, 0, 0, 0, 0]\n",
        "})"
      ],
      "id": "8c90bd89",
      "execution_count": null,
      "outputs": []
    },
    {
      "cell_type": "code",
      "metadata": {
        "id": "808e540d",
        "outputId": "df324111-b849-484e-a388-94ec204c4d9e"
      },
      "source": [
        "data"
      ],
      "id": "808e540d",
      "execution_count": null,
      "outputs": [
        {
          "data": {
            "text/html": [
              "<div>\n",
              "<style scoped>\n",
              "    .dataframe tbody tr th:only-of-type {\n",
              "        vertical-align: middle;\n",
              "    }\n",
              "\n",
              "    .dataframe tbody tr th {\n",
              "        vertical-align: top;\n",
              "    }\n",
              "\n",
              "    .dataframe thead th {\n",
              "        text-align: right;\n",
              "    }\n",
              "</style>\n",
              "<table border=\"1\" class=\"dataframe\">\n",
              "  <thead>\n",
              "    <tr style=\"text-align: right;\">\n",
              "      <th></th>\n",
              "      <th>X_1</th>\n",
              "      <th>X_2</th>\n",
              "      <th>Y</th>\n",
              "    </tr>\n",
              "  </thead>\n",
              "  <tbody>\n",
              "    <tr>\n",
              "      <th>0</th>\n",
              "      <td>1</td>\n",
              "      <td>0</td>\n",
              "      <td>1</td>\n",
              "    </tr>\n",
              "    <tr>\n",
              "      <th>1</th>\n",
              "      <td>1</td>\n",
              "      <td>0</td>\n",
              "      <td>1</td>\n",
              "    </tr>\n",
              "    <tr>\n",
              "      <th>2</th>\n",
              "      <td>1</td>\n",
              "      <td>0</td>\n",
              "      <td>1</td>\n",
              "    </tr>\n",
              "    <tr>\n",
              "      <th>3</th>\n",
              "      <td>0</td>\n",
              "      <td>1</td>\n",
              "      <td>1</td>\n",
              "    </tr>\n",
              "    <tr>\n",
              "      <th>4</th>\n",
              "      <td>0</td>\n",
              "      <td>0</td>\n",
              "      <td>0</td>\n",
              "    </tr>\n",
              "    <tr>\n",
              "      <th>5</th>\n",
              "      <td>0</td>\n",
              "      <td>0</td>\n",
              "      <td>0</td>\n",
              "    </tr>\n",
              "    <tr>\n",
              "      <th>6</th>\n",
              "      <td>0</td>\n",
              "      <td>0</td>\n",
              "      <td>0</td>\n",
              "    </tr>\n",
              "    <tr>\n",
              "      <th>7</th>\n",
              "      <td>1</td>\n",
              "      <td>1</td>\n",
              "      <td>0</td>\n",
              "    </tr>\n",
              "  </tbody>\n",
              "</table>\n",
              "</div>"
            ],
            "text/plain": [
              "   X_1  X_2  Y\n",
              "0    1    0  1\n",
              "1    1    0  1\n",
              "2    1    0  1\n",
              "3    0    1  1\n",
              "4    0    0  0\n",
              "5    0    0  0\n",
              "6    0    0  0\n",
              "7    1    1  0"
            ]
          },
          "execution_count": 3,
          "metadata": {},
          "output_type": "execute_result"
        }
      ]
    },
    {
      "cell_type": "code",
      "metadata": {
        "id": "aa1e5d8b"
      },
      "source": [
        "#дерево решений\n",
        "clf=tree.DecisionTreeClassifier(criterion='entropy')"
      ],
      "id": "aa1e5d8b",
      "execution_count": null,
      "outputs": []
    },
    {
      "cell_type": "code",
      "metadata": {
        "id": "782c6b05",
        "outputId": "74a12b7a-84ce-4dfd-f416-3d0b49f40057"
      },
      "source": [
        "clf"
      ],
      "id": "782c6b05",
      "execution_count": null,
      "outputs": [
        {
          "data": {
            "text/plain": [
              "DecisionTreeClassifier(criterion='entropy')"
            ]
          },
          "execution_count": 17,
          "metadata": {},
          "output_type": "execute_result"
        }
      ]
    },
    {
      "cell_type": "code",
      "metadata": {
        "id": "5f445474"
      },
      "source": [
        "#Те данные которые используем для обучения с заглавной(многомерный массив,pd.Df,np.array)\n",
        "# которые предсказываем - маленькой(просто вектор)\n",
        "X=data[['X_1','X_2']]\n",
        "y=data.Y"
      ],
      "id": "5f445474",
      "execution_count": null,
      "outputs": []
    },
    {
      "cell_type": "code",
      "metadata": {
        "id": "f9c4aaf0",
        "outputId": "a89f6efe-2ec5-4713-972f-fc5c65f21342"
      },
      "source": [
        "#обучение дерева решений\n",
        "clf.fit(X,y)"
      ],
      "id": "f9c4aaf0",
      "execution_count": null,
      "outputs": [
        {
          "data": {
            "text/plain": [
              "DecisionTreeClassifier(criterion='entropy')"
            ]
          },
          "execution_count": 24,
          "metadata": {},
          "output_type": "execute_result"
        }
      ]
    },
    {
      "cell_type": "code",
      "metadata": {
        "id": "f52d9232",
        "outputId": "3092ece2-3a95-4597-9aaf-f235a4fc9300"
      },
      "source": [
        "#визуализация обученного дерева решений\n",
        "\n",
        "tree.plot_tree(clf,feature_names=list(X),class_names=['Negative','Positive'],filled=True)"
      ],
      "id": "f52d9232",
      "execution_count": null,
      "outputs": [
        {
          "data": {
            "text/plain": [
              "[Text(167.4, 181.2, 'X_1 <= 0.5\\nentropy = 1.0\\nsamples = 8\\nvalue = [4, 4]\\nclass = Negative'),\n",
              " Text(83.7, 108.72, 'X_2 <= 0.5\\nentropy = 0.811\\nsamples = 4\\nvalue = [3, 1]\\nclass = Negative'),\n",
              " Text(41.85, 36.23999999999998, 'entropy = 0.0\\nsamples = 3\\nvalue = [3, 0]\\nclass = Negative'),\n",
              " Text(125.55000000000001, 36.23999999999998, 'entropy = 0.0\\nsamples = 1\\nvalue = [0, 1]\\nclass = Positive'),\n",
              " Text(251.10000000000002, 108.72, 'X_2 <= 0.5\\nentropy = 0.811\\nsamples = 4\\nvalue = [1, 3]\\nclass = Positive'),\n",
              " Text(209.25, 36.23999999999998, 'entropy = 0.0\\nsamples = 3\\nvalue = [0, 3]\\nclass = Positive'),\n",
              " Text(292.95, 36.23999999999998, 'entropy = 0.0\\nsamples = 1\\nvalue = [1, 0]\\nclass = Negative')]"
            ]
          },
          "execution_count": 28,
          "metadata": {},
          "output_type": "execute_result"
        },
        {
          "data": {
            "image/png": "[encoded data removed]",
            "text/plain": [
              "<Figure size 432x288 with 1 Axes>"
            ]
          },
          "metadata": {
            "needs_background": "light"
          },
          "output_type": "display_data"
        }
      ]
    },
    {
      "cell_type": "code",
      "metadata": {
        "id": "f8d354ed"
      },
      "source": [
        "# задачка на подсчет энтропии\n",
        "E_sh_1=-4/9*m.log2((4/9))-5/9*m.log2((5/9))\n",
        "E_sh_0=-1/1*m.log2((1/1))-0"
      ],
      "id": "f8d354ed",
      "execution_count": null,
      "outputs": []
    },
    {
      "cell_type": "code",
      "metadata": {
        "id": "1df16add",
        "outputId": "657cd87c-5edb-47e8-b61d-547969455aeb"
      },
      "source": [
        "E_sh_1"
      ],
      "id": "1df16add",
      "execution_count": null,
      "outputs": [
        {
          "data": {
            "text/plain": [
              "0.9910760598382222"
            ]
          },
          "execution_count": 26,
          "metadata": {},
          "output_type": "execute_result"
        }
      ]
    },
    {
      "cell_type": "code",
      "metadata": {
        "id": "43b5d4c8",
        "outputId": "5d66bc8c-2a68-4d7c-ce87-18727853bd15"
      },
      "source": [
        "E_sh_0"
      ],
      "id": "43b5d4c8",
      "execution_count": null,
      "outputs": [
        {
          "data": {
            "text/plain": [
              "-0.0"
            ]
          },
          "execution_count": 27,
          "metadata": {},
          "output_type": "execute_result"
        }
      ]
    },
    {
      "cell_type": "code",
      "metadata": {
        "id": "82b29835"
      },
      "source": [
        "E_gav_0=-5/5*m.log2((5/5))-0"
      ],
      "id": "82b29835",
      "execution_count": null,
      "outputs": []
    },
    {
      "cell_type": "code",
      "metadata": {
        "id": "bf7bbaff",
        "outputId": "3ab404b9-1b83-4fae-813e-dc46e9926c50"
      },
      "source": [
        "E_gav_0"
      ],
      "id": "bf7bbaff",
      "execution_count": null,
      "outputs": [
        {
          "data": {
            "text/plain": [
              "-0.0"
            ]
          },
          "execution_count": 30,
          "metadata": {},
          "output_type": "execute_result"
        }
      ]
    },
    {
      "cell_type": "code",
      "metadata": {
        "id": "b2678612"
      },
      "source": [
        "E_gav_1=-4/5*m.log2((4/5))-1/5*m.log2((1/5))"
      ],
      "id": "b2678612",
      "execution_count": null,
      "outputs": []
    },
    {
      "cell_type": "code",
      "metadata": {
        "id": "6fbb9255",
        "outputId": "0d44b4db-ad05-4390-812d-056f34b6d88d"
      },
      "source": [
        "E_gav_1"
      ],
      "id": "6fbb9255",
      "execution_count": null,
      "outputs": [
        {
          "data": {
            "text/plain": [
              "0.7219280948873623"
            ]
          },
          "execution_count": 32,
          "metadata": {},
          "output_type": "execute_result"
        }
      ]
    },
    {
      "cell_type": "code",
      "metadata": {
        "id": "c4d0181e"
      },
      "source": [
        "E_laz_0=-4/4*m.log2((4/4))-0"
      ],
      "id": "c4d0181e",
      "execution_count": null,
      "outputs": []
    },
    {
      "cell_type": "code",
      "metadata": {
        "id": "a3f28280"
      },
      "source": [
        "E_laz_1=-6/6*m.log2((6/6))-0"
      ],
      "id": "a3f28280",
      "execution_count": null,
      "outputs": []
    },
    {
      "cell_type": "code",
      "metadata": {
        "id": "51b53524",
        "outputId": "5b8aa1a1-2395-4735-fdc0-ddc9bcfef49c"
      },
      "source": [
        "E_laz_0"
      ],
      "id": "51b53524",
      "execution_count": null,
      "outputs": [
        {
          "data": {
            "text/plain": [
              "-0.0"
            ]
          },
          "execution_count": 36,
          "metadata": {},
          "output_type": "execute_result"
        }
      ]
    },
    {
      "cell_type": "code",
      "metadata": {
        "id": "2d189f50",
        "outputId": "86e1f577-fea6-4598-eeaf-abbfb6f1ada6"
      },
      "source": [
        "E_laz_1"
      ],
      "id": "2d189f50",
      "execution_count": null,
      "outputs": [
        {
          "data": {
            "text/plain": [
              "-0.0"
            ]
          },
          "execution_count": 37,
          "metadata": {},
          "output_type": "execute_result"
        }
      ]
    },
    {
      "cell_type": "code",
      "metadata": {
        "id": "7533db41"
      },
      "source": [
        "#считаем IG для каждого из сплитов по переменной\n",
        "E=-4/10*m.log2((4/10))-6/10*m.log2((6/10))"
      ],
      "id": "7533db41",
      "execution_count": null,
      "outputs": []
    },
    {
      "cell_type": "code",
      "metadata": {
        "id": "ff01e8b0"
      },
      "source": [
        "#sh\n",
        "IG_sh=E-(1/10*E_sh_0+9/10*E_sh_1)"
      ],
      "id": "ff01e8b0",
      "execution_count": null,
      "outputs": []
    },
    {
      "cell_type": "code",
      "metadata": {
        "id": "fbeaed4c",
        "outputId": "40ceb0dc-94bf-4937-c155-4b069c5752fb"
      },
      "source": [
        "IG_sh"
      ],
      "id": "fbeaed4c",
      "execution_count": null,
      "outputs": [
        {
          "data": {
            "text/plain": [
              "0.07898214060026854"
            ]
          },
          "execution_count": 43,
          "metadata": {},
          "output_type": "execute_result"
        }
      ]
    },
    {
      "cell_type": "code",
      "metadata": {
        "id": "e48fa8de"
      },
      "source": [
        "#gav\n",
        "IG_gav=E-(5/10*E_gav_0+5/10*E_gav_1)"
      ],
      "id": "e48fa8de",
      "execution_count": null,
      "outputs": []
    },
    {
      "cell_type": "code",
      "metadata": {
        "id": "cbf02ab9",
        "outputId": "b9435f32-0135-4d9e-b0c3-e34bf5efd82b"
      },
      "source": [
        "IG_gav"
      ],
      "id": "cbf02ab9",
      "execution_count": null,
      "outputs": [
        {
          "data": {
            "text/plain": [
              "0.6099865470109874"
            ]
          },
          "execution_count": 46,
          "metadata": {},
          "output_type": "execute_result"
        }
      ]
    },
    {
      "cell_type": "code",
      "metadata": {
        "id": "bbb29902"
      },
      "source": [
        "#laz\n",
        "IG_laz=E-(4/10*E_laz_0+6/10*E_laz_1)"
      ],
      "id": "bbb29902",
      "execution_count": null,
      "outputs": []
    },
    {
      "cell_type": "code",
      "metadata": {
        "id": "3a40c915",
        "outputId": "0447e66e-746b-41b2-8573-7c38c1e5b412"
      },
      "source": [
        "IG_laz"
      ],
      "id": "3a40c915",
      "execution_count": null,
      "outputs": [
        {
          "data": {
            "text/plain": [
              "0.9709505944546686"
            ]
          },
          "execution_count": 49,
          "metadata": {},
          "output_type": "execute_result"
        }
      ]
    },
    {
      "cell_type": "code",
      "metadata": {
        "id": "4beff125"
      },
      "source": [
        ""
      ],
      "id": "4beff125",
      "execution_count": null,
      "outputs": []
    }
  ]
}