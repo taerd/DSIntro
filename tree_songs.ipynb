{
  "nbformat": 4,
  "nbformat_minor": 5,
  "metadata": {
    "kernelspec": {
      "display_name": "Python 3 (ipykernel)",
      "language": "python",
      "name": "python3"
    },
    "language_info": {
      "codemirror_mode": {
        "name": "ipython",
        "version": 3
      },
      "file_extension": ".py",
      "mimetype": "text/x-python",
      "name": "python",
      "nbconvert_exporter": "python",
      "pygments_lexer": "ipython3",
      "version": "3.9.6"
    },
    "colab": {
      "name": "tree_songs.ipynb",
      "provenance": [],
      "include_colab_link": true
    }
  },
  "cells": [
    {
      "cell_type": "markdown",
      "metadata": {
        "id": "view-in-github",
        "colab_type": "text"
      },
      "source": [
        "<a href=\"https://colab.research.google.com/github/taerd/DSIntro/blob/master/tree_songs.ipynb\" target=\"_parent\"><img src=\"https://colab.research.google.com/assets/colab-badge.svg\" alt=\"Open In Colab\"/></a>"
      ]
    },
    {
      "cell_type": "code",
      "metadata": {
        "id": "3eac564d"
      },
      "source": [
        "import pandas as pd\n",
        "from sklearn import tree"
      ],
      "id": "3eac564d",
      "execution_count": null,
      "outputs": []
    },
    {
      "cell_type": "code",
      "metadata": {
        "id": "d63132b9"
      },
      "source": [
        "df= pd.read_csv('songs.csv')"
      ],
      "id": "d63132b9",
      "execution_count": null,
      "outputs": []
    },
    {
      "cell_type": "code",
      "metadata": {
        "id": "92caa7f7",
        "outputId": "2a20668d-32b5-4d97-dd13-58dc6085fd91"
      },
      "source": [
        "df.head()"
      ],
      "id": "92caa7f7",
      "execution_count": null,
      "outputs": [
        {
          "data": {
            "text/html": [
              "<div>\n",
              "<style scoped>\n",
              "    .dataframe tbody tr th:only-of-type {\n",
              "        vertical-align: middle;\n",
              "    }\n",
              "\n",
              "    .dataframe tbody tr th {\n",
              "        vertical-align: top;\n",
              "    }\n",
              "\n",
              "    .dataframe thead th {\n",
              "        text-align: right;\n",
              "    }\n",
              "</style>\n",
              "<table border=\"1\" class=\"dataframe\">\n",
              "  <thead>\n",
              "    <tr style=\"text-align: right;\">\n",
              "      <th></th>\n",
              "      <th>song</th>\n",
              "      <th>year</th>\n",
              "      <th>artist</th>\n",
              "      <th>genre</th>\n",
              "      <th>lyrics</th>\n",
              "      <th>length</th>\n",
              "      <th>commas</th>\n",
              "      <th>exclamations</th>\n",
              "      <th>colons</th>\n",
              "      <th>hyphens</th>\n",
              "    </tr>\n",
              "  </thead>\n",
              "  <tbody>\n",
              "    <tr>\n",
              "      <th>0</th>\n",
              "      <td>the-ownerz</td>\n",
              "      <td>2007</td>\n",
              "      <td>gangstarr</td>\n",
              "      <td>Hip-Hop</td>\n",
              "      <td>\"One-two..\"\\n\"One-two, shots to the chin.. kno...</td>\n",
              "      <td>1300</td>\n",
              "      <td>24</td>\n",
              "      <td>5</td>\n",
              "      <td>0</td>\n",
              "      <td>11</td>\n",
              "    </tr>\n",
              "    <tr>\n",
              "      <th>1</th>\n",
              "      <td>dead-sound-of-misery</td>\n",
              "      <td>2006</td>\n",
              "      <td>blind-guardian</td>\n",
              "      <td>Metal</td>\n",
              "      <td>It's dark\\nLet's do it now\\nBring in the siren...</td>\n",
              "      <td>1566</td>\n",
              "      <td>0</td>\n",
              "      <td>0</td>\n",
              "      <td>0</td>\n",
              "      <td>0</td>\n",
              "    </tr>\n",
              "    <tr>\n",
              "      <th>2</th>\n",
              "      <td>modred-s-song</td>\n",
              "      <td>2006</td>\n",
              "      <td>blind-guardian</td>\n",
              "      <td>Metal</td>\n",
              "      <td>I've lost my battle before it starts\\nmy first...</td>\n",
              "      <td>996</td>\n",
              "      <td>1</td>\n",
              "      <td>0</td>\n",
              "      <td>1</td>\n",
              "      <td>0</td>\n",
              "    </tr>\n",
              "    <tr>\n",
              "      <th>3</th>\n",
              "      <td>the-ninth-wave</td>\n",
              "      <td>2015</td>\n",
              "      <td>blind-guardian</td>\n",
              "      <td>Metal</td>\n",
              "      <td>As dark night embraces\\nWe are the nation\\nI w...</td>\n",
              "      <td>2868</td>\n",
              "      <td>5</td>\n",
              "      <td>0</td>\n",
              "      <td>0</td>\n",
              "      <td>0</td>\n",
              "    </tr>\n",
              "    <tr>\n",
              "      <th>4</th>\n",
              "      <td>skills</td>\n",
              "      <td>2014</td>\n",
              "      <td>gangstarr</td>\n",
              "      <td>Hip-Hop</td>\n",
              "      <td>Skills, skills, skills\\n\"My Microphone\"\\n\"It's...</td>\n",
              "      <td>3351</td>\n",
              "      <td>22</td>\n",
              "      <td>0</td>\n",
              "      <td>0</td>\n",
              "      <td>3</td>\n",
              "    </tr>\n",
              "  </tbody>\n",
              "</table>\n",
              "</div>"
            ],
            "text/plain": [
              "                   song  year          artist    genre  \\\n",
              "0            the-ownerz  2007       gangstarr  Hip-Hop   \n",
              "1  dead-sound-of-misery  2006  blind-guardian    Metal   \n",
              "2         modred-s-song  2006  blind-guardian    Metal   \n",
              "3        the-ninth-wave  2015  blind-guardian    Metal   \n",
              "4                skills  2014       gangstarr  Hip-Hop   \n",
              "\n",
              "                                              lyrics  length  commas  \\\n",
              "0  \"One-two..\"\\n\"One-two, shots to the chin.. kno...    1300      24   \n",
              "1  It's dark\\nLet's do it now\\nBring in the siren...    1566       0   \n",
              "2  I've lost my battle before it starts\\nmy first...     996       1   \n",
              "3  As dark night embraces\\nWe are the nation\\nI w...    2868       5   \n",
              "4  Skills, skills, skills\\n\"My Microphone\"\\n\"It's...    3351      22   \n",
              "\n",
              "   exclamations  colons  hyphens  \n",
              "0             5       0       11  \n",
              "1             0       0        0  \n",
              "2             0       1        0  \n",
              "3             0       0        0  \n",
              "4             0       0        3  "
            ]
          },
          "execution_count": 14,
          "metadata": {},
          "output_type": "execute_result"
        }
      ]
    },
    {
      "cell_type": "code",
      "metadata": {
        "id": "9998d447",
        "outputId": "2a11ece2-68b9-4d8f-90b2-e14834c65f88"
      },
      "source": [
        "df.artist.unique()"
      ],
      "id": "9998d447",
      "execution_count": null,
      "outputs": [
        {
          "data": {
            "text/plain": [
              "array(['gangstarr', 'blind-guardian', 'abba'], dtype=object)"
            ]
          },
          "execution_count": 31,
          "metadata": {},
          "output_type": "execute_result"
        }
      ]
    },
    {
      "cell_type": "code",
      "metadata": {
        "id": "377470b6"
      },
      "source": [
        "X_train = df.drop(['lyrics','song','artist'],axis=1)"
      ],
      "id": "377470b6",
      "execution_count": null,
      "outputs": []
    },
    {
      "cell_type": "code",
      "metadata": {
        "id": "f5503315"
      },
      "source": [
        "X_train = pd.get_dummies(X_train)"
      ],
      "id": "f5503315",
      "execution_count": null,
      "outputs": []
    },
    {
      "cell_type": "code",
      "metadata": {
        "id": "ee4b658f",
        "outputId": "ddb2cbc5-b143-4d4c-f07b-41a374f11213"
      },
      "source": [
        "X_train.head(7)"
      ],
      "id": "ee4b658f",
      "execution_count": null,
      "outputs": [
        {
          "data": {
            "text/html": [
              "<div>\n",
              "<style scoped>\n",
              "    .dataframe tbody tr th:only-of-type {\n",
              "        vertical-align: middle;\n",
              "    }\n",
              "\n",
              "    .dataframe tbody tr th {\n",
              "        vertical-align: top;\n",
              "    }\n",
              "\n",
              "    .dataframe thead th {\n",
              "        text-align: right;\n",
              "    }\n",
              "</style>\n",
              "<table border=\"1\" class=\"dataframe\">\n",
              "  <thead>\n",
              "    <tr style=\"text-align: right;\">\n",
              "      <th></th>\n",
              "      <th>year</th>\n",
              "      <th>length</th>\n",
              "      <th>commas</th>\n",
              "      <th>exclamations</th>\n",
              "      <th>colons</th>\n",
              "      <th>hyphens</th>\n",
              "      <th>genre_Hip-Hop</th>\n",
              "      <th>genre_Metal</th>\n",
              "      <th>genre_Pop</th>\n",
              "    </tr>\n",
              "  </thead>\n",
              "  <tbody>\n",
              "    <tr>\n",
              "      <th>0</th>\n",
              "      <td>2007</td>\n",
              "      <td>1300</td>\n",
              "      <td>24</td>\n",
              "      <td>5</td>\n",
              "      <td>0</td>\n",
              "      <td>11</td>\n",
              "      <td>1</td>\n",
              "      <td>0</td>\n",
              "      <td>0</td>\n",
              "    </tr>\n",
              "    <tr>\n",
              "      <th>1</th>\n",
              "      <td>2006</td>\n",
              "      <td>1566</td>\n",
              "      <td>0</td>\n",
              "      <td>0</td>\n",
              "      <td>0</td>\n",
              "      <td>0</td>\n",
              "      <td>0</td>\n",
              "      <td>1</td>\n",
              "      <td>0</td>\n",
              "    </tr>\n",
              "    <tr>\n",
              "      <th>2</th>\n",
              "      <td>2006</td>\n",
              "      <td>996</td>\n",
              "      <td>1</td>\n",
              "      <td>0</td>\n",
              "      <td>1</td>\n",
              "      <td>0</td>\n",
              "      <td>0</td>\n",
              "      <td>1</td>\n",
              "      <td>0</td>\n",
              "    </tr>\n",
              "    <tr>\n",
              "      <th>3</th>\n",
              "      <td>2015</td>\n",
              "      <td>2868</td>\n",
              "      <td>5</td>\n",
              "      <td>0</td>\n",
              "      <td>0</td>\n",
              "      <td>0</td>\n",
              "      <td>0</td>\n",
              "      <td>1</td>\n",
              "      <td>0</td>\n",
              "    </tr>\n",
              "    <tr>\n",
              "      <th>4</th>\n",
              "      <td>2014</td>\n",
              "      <td>3351</td>\n",
              "      <td>22</td>\n",
              "      <td>0</td>\n",
              "      <td>0</td>\n",
              "      <td>3</td>\n",
              "      <td>1</td>\n",
              "      <td>0</td>\n",
              "      <td>0</td>\n",
              "    </tr>\n",
              "    <tr>\n",
              "      <th>5</th>\n",
              "      <td>2007</td>\n",
              "      <td>1413</td>\n",
              "      <td>26</td>\n",
              "      <td>0</td>\n",
              "      <td>0</td>\n",
              "      <td>2</td>\n",
              "      <td>1</td>\n",
              "      <td>0</td>\n",
              "      <td>0</td>\n",
              "    </tr>\n",
              "    <tr>\n",
              "      <th>6</th>\n",
              "      <td>2006</td>\n",
              "      <td>714</td>\n",
              "      <td>0</td>\n",
              "      <td>0</td>\n",
              "      <td>0</td>\n",
              "      <td>0</td>\n",
              "      <td>0</td>\n",
              "      <td>0</td>\n",
              "      <td>1</td>\n",
              "    </tr>\n",
              "  </tbody>\n",
              "</table>\n",
              "</div>"
            ],
            "text/plain": [
              "   year  length  commas  exclamations  colons  hyphens  genre_Hip-Hop  \\\n",
              "0  2007    1300      24             5       0       11              1   \n",
              "1  2006    1566       0             0       0        0              0   \n",
              "2  2006     996       1             0       1        0              0   \n",
              "3  2015    2868       5             0       0        0              0   \n",
              "4  2014    3351      22             0       0        3              1   \n",
              "5  2007    1413      26             0       0        2              1   \n",
              "6  2006     714       0             0       0        0              0   \n",
              "\n",
              "   genre_Metal  genre_Pop  \n",
              "0            0          0  \n",
              "1            1          0  \n",
              "2            1          0  \n",
              "3            1          0  \n",
              "4            0          0  \n",
              "5            0          0  \n",
              "6            0          1  "
            ]
          },
          "execution_count": 34,
          "metadata": {},
          "output_type": "execute_result"
        }
      ]
    },
    {
      "cell_type": "code",
      "metadata": {
        "id": "51aaa996"
      },
      "source": [
        "y_train=df.artist"
      ],
      "id": "51aaa996",
      "execution_count": null,
      "outputs": []
    },
    {
      "cell_type": "code",
      "metadata": {
        "id": "91b5a7df",
        "outputId": "c71dd46d-5ca6-450c-a74e-171bcb215548"
      },
      "source": [
        "y_train.head(7)"
      ],
      "id": "91b5a7df",
      "execution_count": null,
      "outputs": [
        {
          "data": {
            "text/plain": [
              "0         gangstarr\n",
              "1    blind-guardian\n",
              "2    blind-guardian\n",
              "3    blind-guardian\n",
              "4         gangstarr\n",
              "5         gangstarr\n",
              "6              abba\n",
              "Name: artist, dtype: object"
            ]
          },
          "execution_count": 35,
          "metadata": {},
          "output_type": "execute_result"
        }
      ]
    },
    {
      "cell_type": "code",
      "metadata": {
        "id": "ad76060c"
      },
      "source": [
        "clf = tree.DecisionTreeClassifier(criterion='entropy',max_depth = 5)"
      ],
      "id": "ad76060c",
      "execution_count": null,
      "outputs": []
    },
    {
      "cell_type": "code",
      "metadata": {
        "id": "1de38da2",
        "outputId": "bcbe47d9-1b9a-4ac9-83b4-7f605bc72cbc"
      },
      "source": [
        "clf.fit(X_train,y_train)"
      ],
      "id": "1de38da2",
      "execution_count": null,
      "outputs": [
        {
          "data": {
            "text/plain": [
              "DecisionTreeClassifier(criterion='entropy', max_depth=5)"
            ]
          },
          "execution_count": 29,
          "metadata": {},
          "output_type": "execute_result"
        }
      ]
    },
    {
      "cell_type": "code",
      "metadata": {
        "id": "a56b4b48",
        "outputId": "6af69e01-99d8-4207-b9f8-31f25a569b00"
      },
      "source": [
        "tree.plot_tree(clf,feature_names=list(X_train),class_names=['abba','blind-guardian','gangstarr'],filled=True,fontsize=8);"
      ],
      "id": "a56b4b48",
      "execution_count": null,
      "outputs": [
        {
          "data": {
            "image/png": "[encoded data removed]",
            "text/plain": [
              "<Figure size 432x288 with 1 Axes>"
            ]
          },
          "metadata": {
            "needs_background": "light"
          },
          "output_type": "display_data"
        }
      ]
    },
    {
      "cell_type": "code",
      "metadata": {
        "id": "6db85a5a"
      },
      "source": [
        "#tree.plot_tree(clf,feature_names=list(X),class_names=['Survived','Died'],filled=True,fontsize=1);"
      ],
      "id": "6db85a5a",
      "execution_count": null,
      "outputs": []
    },
    {
      "cell_type": "code",
      "metadata": {
        "id": "ab6c1eaf"
      },
      "source": [
        "max_depth = range(1,100)"
      ],
      "id": "ab6c1eaf",
      "execution_count": null,
      "outputs": []
    },
    {
      "cell_type": "code",
      "metadata": {
        "id": "06b838a3"
      },
      "source": [
        ""
      ],
      "id": "06b838a3",
      "execution_count": null,
      "outputs": []
    },
    {
      "cell_type": "code",
      "metadata": {
        "id": "407d4d97"
      },
      "source": [
        ""
      ],
      "id": "407d4d97",
      "execution_count": null,
      "outputs": []
    },
    {
      "cell_type": "code",
      "metadata": {
        "id": "44b15c02"
      },
      "source": [
        ""
      ],
      "id": "44b15c02",
      "execution_count": null,
      "outputs": []
    },
    {
      "cell_type": "code",
      "metadata": {
        "id": "d4391c8d"
      },
      "source": [
        ""
      ],
      "id": "d4391c8d",
      "execution_count": null,
      "outputs": []
    },
    {
      "cell_type": "code",
      "metadata": {
        "id": "813cc4ce"
      },
      "source": [
        ""
      ],
      "id": "813cc4ce",
      "execution_count": null,
      "outputs": []
    },
    {
      "cell_type": "code",
      "metadata": {
        "id": "1c60e92b"
      },
      "source": [
        ""
      ],
      "id": "1c60e92b",
      "execution_count": null,
      "outputs": []
    }
  ]
}